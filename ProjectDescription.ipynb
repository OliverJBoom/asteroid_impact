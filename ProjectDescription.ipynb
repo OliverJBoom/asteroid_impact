{
 "cells": [
  {
   "cell_type": "markdown",
   "metadata": {
    "slideshow": {
     "slide_type": "slide"
    }
   },
   "source": [
    "\n",
    "# Project 1: Armageddon - Atmospheric entry and disruption of asteroids\n",
    "\n",
    "[Gareth Collins](http://www.imperial.ac.uk/people/g.collins)\n"
   ]
  },
  {
   "cell_type": "markdown",
   "metadata": {
    "slideshow": {
     "slide_type": "notes"
    }
   },
   "source": [
    "## Synopsis:\n",
    "\n",
    "Asteroids entering Earth’s atmosphere are subject to extreme drag forces that decelerate, heat and disrupt the space rocks. The fate of an asteroid is a complex function of its initial mass, speed, trajectory angle and internal strength. \n",
    "\n",
    "[Asteroids](https://en.wikipedia.org/wiki/Asteroid) 10-100 m in diameter can penetrate deep into Earth’s atmosphere and disrupt catastrophically, generating an atmospheric disturbance ([airburst](https://en.wikipedia.org/wiki/Air_burst)) that can cause [damage on the ground](https://www.youtube.com/watch?v=tq02C_3FvFo). Such an event occurred over the city of [Chelyabinsk](https://en.wikipedia.org/wiki/Chelyabinsk_meteor) in Russia, in 2013, injuring thousands of people ([Popova et al., 2013](http://doi.org/10.1126/science.1242642); [Brown et al., 2013](http://doi.org/10.1038/nature12741)). An even larger event occurred over [Tunguska](https://en.wikipedia.org/wiki/Tunguska_event), an unpopulated area in Siberia, in 1908. \n",
    "\n",
    "<img src=\"images/chelyabinsk.png\" width=\"640\">\n",
    "\n",
    "The purpose of this exercise is to develop a fast numerical simulator to predict the fate of asteroids entering Earth’s atmosphere for the purposes of hazard assessment.\n"
   ]
  },
  {
   "cell_type": "markdown",
   "metadata": {
    "slideshow": {
     "slide_type": "notes"
    }
   },
   "source": [
    "## Problem definition\n",
    "\n",
    "### Equations\n",
    "\n",
    "The dynamics of an asteroid in Earth’s atmosphere prior to break-up is governed by a coupled set of ordinary differential equations:\n",
    "\n",
    "\\begin{aligned} \n",
    "\\frac{dv}{dt} & = \\frac{-C_D\\rho_a A v^2}{2 m} + g \\sin \\theta \\\\\n",
    "\\frac{dm}{dt} & = \\frac{-C_H\\rho_a A v^3}{2 Q} \\\\\n",
    "\\frac{d\\theta}{dt} & = \\frac{g\\cos\\theta}{v} - \\frac{C_L\\rho_a A v}{2 m} - \\frac{v\\cos\\theta}{R_P + z} \\\\\n",
    "\\frac{dz}{dt} & = -v\\sin\\theta \\\\\n",
    "\\frac{dx}{dt} & = \\frac{v\\cos\\theta}{1 + z/R_P}\n",
    "\\end{aligned}\n",
    "\n",
    "In these equations,$v$, $m$, and $A$ are the asteroid velocity, mass and cross-sectional area, respectively; $\\theta$ is the meteoroid trajectory angle to the surface, $x$ is the downrange distance of the meteoroid from its entry position, $z$ is the altitude and $t$ is time; $C_D$ is the drag coefficient, $\\rho_a$ is the atmospheric density (a function of altitude ), $C_H$ is an ablation efficiency coefficient, $Q$ is the specific heat of ablation; $C_L$ is a lift coefficient; and $R_P$ is the planetary radius. All terms use MKS units.\n"
   ]
  },
  {
   "cell_type": "markdown",
   "metadata": {
    "slideshow": {
     "slide_type": "notes"
    }
   },
   "source": [
    "A commonly used criterion for the break-up of an asteroid in the atmosphere is when the ram pressure of the air interacting with the asteroid $\\rho_a v^2$ first exceeds the strength of the asteroid $\\sigma_0$.\n",
    "\n",
    "$$\\rho_a v^2 = \\sigma_0$$\n",
    "\n",
    "Should break-up occur, the asteroid deforms and spreads laterally as it continues its passage through the atmosphere. Several models for the spreading rate have been proposed. In the simplest model, the fragmented asteroid’s spreading rate is related to its along trajectory speed [(Hills and Goda, 1993)](http://doi.org/10.1086/116499):\n",
    "\n",
    "$$ \\frac{dr}{dt} = \\left[\\frac{7}{2}\\alpha\\frac{\\rho_a}{\\rho_m}\\right]^{1/2} v$$\n",
    "\n",
    "Where $r$ is the asteroid radius, $\\rho_m$ is the asteroid density and $\\alpha$ is a spreading coefficient, often taken to be 0.3. It is conventional to define the cross-sectional area of the expanding cloud of fragments as $A = \\pi r^2$, for use in the above equations.\n"
   ]
  },
  {
   "cell_type": "markdown",
   "metadata": {
    "slideshow": {
     "slide_type": "notes"
    }
   },
   "source": [
    "The figure below shows a typical solution to the above set of equations for an impact airburst scenario. The kinetic energy loss per km, which is a good approximation for the energy transferred to the atmosphere as heat (and is often referred to as the energy deposited per km), is shown as a function of altitude. \n",
    "\n",
    "<img src=\"images/airburst.png\" width=\"640\">\n",
    "\n",
    "In this scenario the asteroid experiences breakup at approximately 48-km altitude, before spreading and decelerating rapidly until an altitude of 15 km at which point the **peak energy loss per km is maximum**. This point is often considered to be the **burst altitude**. The total kinetic energy lost by the asteroid at this point is a good estimate of the airburst energy (i.e., the total energy deposited into the atmosphere) for hazard analysis.\n",
    "\n",
    "Impact scenarios with a burst altitude well (>5 km) above the surface can be considered to be airburst events and are unlikely to form a sizable crater on the ground. In such cases, even if a substantial fraction of the original asteroid survives to the ground it will be decelerated to a very small fraction of its initial speed.\n",
    "\n",
    "Impact scenarios with a burst altitude below the surface (i.e., peak energy deposition per km is not reached before the asteroid strikes the ground) will form a sizable impact crater on the ground and can be considered as a cratering event (although a sizable proportion of the original kinetic energy of the asteroid may be transferred to the air).\n",
    "\n",
    "Between these scenarios is a complex regime where a low altitude airburst combined with a substantial crater-forming event is likely. This regime is not well understood.\n"
   ]
  },
  {
   "cell_type": "markdown",
   "metadata": {
    "slideshow": {
     "slide_type": "slide"
    }
   },
   "source": [
    "## <span style=\"color:blue\">Challenge</span>\n",
    "\n",
    "Your task is to develop a Python program to solve this system of equations and graphically display the results. The program should take as inputs:\n",
    "\n",
    "* Asteroid size\n",
    "* Asteroid speed\n",
    "* Asteroid density\n",
    "* Asteroid strength\n",
    "* Asteroid trajectory angle\n",
    "* Planetary gravity\n",
    "* Atmospheric density (start by assuming an exponential atmosphere: $\\rho_a = \\rho_0 e^{-z/H}$)\n"
   ]
  },
  {
   "cell_type": "markdown",
   "metadata": {
    "slideshow": {
     "slide_type": "skip"
    }
   },
   "source": [
    "You can assume the following value for coefficients\n",
    "\n",
    "| Symbol |   Description    | Units/Value |\n",
    "|:------:|:----------------:|:-----------:|\n",
    "| $C_D$  |    Drag          |      1      |\n",
    "| $C_H$  | Heat Transfer    |     0.1     |\n",
    "| $Q$    | Heat of ablation |   $10^7$    |\n",
    "| $C_L$  |    Lift          |  $10^{-3}$  |\n"
   ]
  },
  {
   "cell_type": "markdown",
   "metadata": {
    "slideshow": {
     "slide_type": "slide"
    }
   },
   "source": [
    "### Compulsory Functionality\n",
    "\n",
    "The program should be able to produce data that can be used to make a graph of any of the following variables as a function of time (or each other):\n",
    "\n",
    "* Altitude, horizontal position, speed, mass, diameter, kinetic energy loss per km\n",
    "\n",
    "It should also return the following **key results**:\n",
    "\n",
    "* Whether the scenario is an airburst or a cratering event\n",
    "* The peak kinetic energy loss per km (airburst)\n",
    "* The burst altitude (airburst)\n",
    "* The total kinetic energy loss at burst (airburst)\n",
    "* The mass and speed of the remnants of the asteroid that strike(s) the ground (airburst and cratering)"
   ]
  },
  {
   "cell_type": "markdown",
   "metadata": {
    "slideshow": {
     "slide_type": "slide"
    }
   },
   "source": [
    "### Optional Functionality\n",
    "\n",
    "Additional credit will be given if your software demonstrates any of the following optional extended capabilities:\n",
    "\n",
    "* Ability to apply the model to an arbitrary planetary atmosphere and to use a tabulated atmospheric density profile (a tabulated atmospheric profile for Earth is provided in [here](data/AltitudeDensityTable.csv).\n",
    "* Alternative or more complex treatments of fragmentation ([Passey and Melosh 1980](https://www.sciencedirect.com/science/article/pii/001910358090072X?via%3Dihub); [Chyba et al. 1993](http://doi.org/10.1038/361040a0); [Avramenko et al. 2014](http://doi.org/10.1002/2013JD021028); [Wheeler et al. 2017](http://doi.org/10.1016/j.icarus.2017.02.011)).\n",
    "* Ability to perform an ensemble of simulations with probability distributions as inputs and calculate the uncertainty in altitude and magnitude of peak energy release.\n",
    "\n",
    "Note that it is possible to get a very good mark without any of these optional features. They are intended to keep you busy for the whole week, if you complete the primary task quickly!\n"
   ]
  },
  {
   "cell_type": "markdown",
   "metadata": {
    "slideshow": {
     "slide_type": "slide"
    }
   },
   "source": [
    "## Assessment\n",
    "\n",
    "Your group project will be assessed in four ways:\n",
    "\n",
    "### Software (50 marks)\n",
    "\n",
    "Software will be assessed based on functionality (**25/50 marks**) and sustainability (**25/50 marks**).\n",
    "\n",
    "Functionality (**25 marks**): Your software will be assessed on its ability to perform the required tasks. Up to 15 marks will be awarded for successfully completing the primary tasks. Up to 5 marks (each) will be awarded for completion of each optional task, capped at 10 marks. Marks will be deducted for (a) inaccuracy in the solution; (b) bugs or mistakes in implementation; (c) gross inefficiency (i.e., code efficiency is not an important aspect of this project, but very slow code will be penalised).\n",
    "\n",
    "Sustainability (**25 marks**): As with all software projects, you should employ all the elements of best practice in software development that you have learned so far. A GitHub repository will be created for your project to host your software. The quality and sustainability of your software and its documentation will be assessed based on your final repository and how it evolves during the week. Please refer to the ACSE-4 handbook for more information about the assessment of software quality."
   ]
  },
  {
   "cell_type": "markdown",
   "metadata": {
    "collapsed": true,
    "slideshow": {
     "slide_type": "slide"
    }
   },
   "source": [
    "### Technical report (30 marks)\n",
    "\n",
    "By the **deadline (Friday 9th November, 12:00 noon)**, you must produce a technical report, in the form of a Jupyter notebook (in your GitHub repo), that presents the following elements:\n",
    "\n",
    "1. A brief description of your solution algorithm (**4 marks**)  \n",
    "2. A brief description of how to install and use your software (**4 marks**)   \n",
    "3. A demonstration execution of your software that can take User-specified inputs and return the key results specified above and produce well-formatted plots of: altitude vs time; speed vs altitude; mass vs. altitude; diameter vs. altitude; kinetic energy loss per km vs. altitude (**4 marks**)  "
   ]
  },
  {
   "cell_type": "markdown",
   "metadata": {
    "slideshow": {
     "slide_type": "subslide"
    }
   },
   "source": [
    "4. A comparison between your software output and an analytical solution derived with the simplifying assumptions of exponential atmosphere ($\\rho_a = \\rho_0 e^{-z/H}$), no gravitational acceleration ($g=0$), a flat planet ($R_p = \\infty$), no lift ($C_L = 0$), no mass change owing to ablation ($\\frac{dm}{dt}=0$) and no fragmentation ($\\sigma_0 = \\infty$, $\\frac{dr}{dt}=0$). The equation for the analytical solution should be stated and compared graphically with the numerical solution in terms of speed vs altitude (**4 marks**)    \n",
    "5. A quantification of the accuracy of your numerical solution for two cases, with and without fragmentation, for User-specified input parameters. It is up to you to design an appropriate demonstration of accuracy, but this could take the form of a plot of error vs. timestep size or error vs. solver tolerance, depending on your solution algorithm (**4 marks**)\n",
    "6. Apply your software to determine the impactor parameters (asteroid size & strength) for the Chelyabinsk airburst, by fitting your model solutions of kinetic energy loss per km vs. altitude to the inferred energy deposition curve (available [here](data/ChelyabinskEnergyAltitude.csv)). Note that in this data file energy is given in units of [kilotons of TNT](https://en.wikipedia.org/wiki/TNT_equivalent), where 1 kt TNT is equivalent to $4.184 \\times 10^{12}$ J. Note also that the density 3300 kg/m$^3$, impact angle (18.3 degrees to horizontal) and entry velocity (19.2 km/s) are well known from observations ([Popova et al., 2013](http://doi.org/10.1126/science.1242642)). (**4 marks**)"
   ]
  },
  {
   "cell_type": "markdown",
   "metadata": {
    "slideshow": {
     "slide_type": "subslide"
    }
   },
   "source": [
    "7. (Optional) A demonstration of functionality to model entry on Mars via a comparison between the same impact scenario on Earth and Mars (**4 marks**). \n",
    "8. (Optional) A demonstration of an alternative or more complex fragmentation model via a graphical comparison between two models (**4 marks**).  \n",
    "9. (Optional) A demonstration of functionality to perform a statistical ensemble; that is, to take probability distributions of each parameter as inputs and return outcomes as probability distributions. (**4 marks**)\n",
    "\n",
    "Note: the total mark will be capped at 6 for the optional parts of the Technical Report"
   ]
  },
  {
   "cell_type": "markdown",
   "metadata": {
    "slideshow": {
     "slide_type": "slide"
    }
   },
   "source": [
    "### Presentation (10 marks)\n",
    "\n",
    "On Friday afternoon, you must present your notebook and demonstrate your software to the class. You will have 20 minutes, plus questions, for your presentation. Your presentation should cover parts (1)-(5) of the technical report, as well as a live demonstration of your software, including the relevant elements of your GitHub repo.\n",
    "\n",
    "### Teamwork (peer assessment; 10 marks)\n",
    "\n",
    "After the presentations, you will complete a self-evaluation of your group's performance. This, together with observations made during the week by staff, will inform the teamwork component of your mark. Please refer to the ACSE-4 guidelines for more information about the assessment of teamwork."
   ]
  },
  {
   "cell_type": "markdown",
   "metadata": {
    "slideshow": {
     "slide_type": "slide"
    }
   },
   "source": [
    "## Technical requirements\n",
    "* You should use the assigned GitHub repository exclusively for your project\n",
    "* Your software must be written in Python 3.6\n",
    "* You can import anything from the standard python 3.6 libraries as well as numpy, matplotlib and scipy (or your own implementations of algorithms available in scipy that you have learned in ACSE 3)\n",
    "* You are not allowed to import any other python packages (if in doubt, please query with the Module Coordinator)\n",
    "* You can assume that Users of your software will have pytest installed, so this does not need to be part of your repository\n",
    "* You should use Travis and the GitHub flow for any automated testing that you implement\n",
    "\n",
    "**Please be aware that it is very difficult to resolve conflicts between Jupyter Notebooks (and other binary files) using git. It is recommended that you avoid conflicts by coordinating edits to your Technical Report Notebook.**"
   ]
  }
 ],
 "metadata": {
  "celltoolbar": "Slideshow",
  "kernelspec": {
   "display_name": "Python 3",
   "language": "python",
   "name": "python3"
  },
  "language_info": {
   "codemirror_mode": {
    "name": "ipython",
    "version": 3
   },
   "file_extension": ".py",
   "mimetype": "text/x-python",
   "name": "python",
   "nbconvert_exporter": "python",
   "pygments_lexer": "ipython3",
   "version": "3.6.6"
  },
  "toc": {
   "base_numbering": 1,
   "nav_menu": {},
   "number_sections": true,
   "sideBar": true,
   "skip_h1_title": false,
   "title_cell": "Table of Contents",
   "title_sidebar": "Contents",
   "toc_cell": false,
   "toc_position": {},
   "toc_section_display": true,
   "toc_window_display": false
  }
 },
 "nbformat": 4,
 "nbformat_minor": 1
}
