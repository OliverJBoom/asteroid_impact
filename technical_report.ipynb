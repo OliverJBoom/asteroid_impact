{
 "cells": [
  {
   "cell_type": "markdown",
   "metadata": {},
   "source": [
    "\n",
    "# 1. A brief description of our solution algorithm\n",
    "   \n",
    "A data set of initial values and ordinary differential equations were given to solve the project problem.\n",
    "\n",
    "## 1.1. Implementation\n",
    "\n",
    "First we defined the initial values and then applied the scipy.integrate.solve_ivp using RK45 scheme as an accurate and easy\n",
    "\n",
    "implementing method to solve coupled ODEs.\n",
    "\n",
    "### 1.1.1. Initial values\n",
    "\n",
    "\n",
    "| Symbol |   Description    | Units/Value |\n",
    "|:------:|:----------------:|:-----------:|\n",
    "| $C_D$  |    Drag coefficient  |     1      |\n",
    "| $C_H$  | Heat Transfer coef.   |     0.1     |\n",
    "| $Q$    | Heat of ablation |   $10^7$    |\n",
    "| $C_L$  |    Lift coefficient    |  $10^{-3}$  |\n",
    "| $\\alpha$ | Dispersion coefficient | 0.3. |\n",
    "| $H$  | Atmospheric scale height (m) |  8000  | \n",
    "| $g$  | Gravitational acceleration | 9.81 |\n",
    "| $\\rho_0$ | Atmospheric pressure (pascal) | 1.2 |\n",
    "| $R_p$ | Radius of planet (Earth) | 6.371E6 |\n",
    "| $\\rho_m$ | Density of asteroid (kg/m3) | 3.3E3 |\n",
    "| $\\rho_a$ | Atmospheric density (kpa) | $\\rho_0 e^{-z/H}$ |\n",
    "| $v$ | velocity (km/s) | 19E3 |\n",
    "| $m$ | Mass of asteroid | 12E6 |\n",
    "| $\\theta$ | meteoroid trajectory angle to the surface | 20 |\n",
    "| $z$ | Altitude (km) | 100E3 |\n",
    "| $x$ | Horizontal displacement (km) | 0 |\n",
    "| $ø$ | Diameter | 19.5 |\n",
    "| $Y$ | Asteroid yield strength | 2E6 |\n",
    "| $A$ | Cross sectional area | $π r^2$ |\n",
    "\n",
    "\n",
    "### 1.1.2. Calculate the initial values\n",
    "\n",
    "In this step, several variables were calculated using following equations:\n",
    "    \n",
    "\\begin{aligned} \n",
    "\\frac{dv}{dt} & = \\frac{-C_D\\rho_a A v^2}{2 m} + g \\sin \\theta \\\\\n",
    "\\frac{dm}{dt} & = \\frac{-C_H\\rho_a A v^3}{2 Q} \\\\\n",
    "\\frac{d\\theta}{dt} & = \\frac{g\\cos\\theta}{v} - \\frac{C_L\\rho_a A v}{2 m} - \\frac{v\\cos\\theta}{R_P + z} \\\\\n",
    "\\frac{dz}{dt} & = -v\\sin\\theta \\\\\n",
    "\\frac{dx}{dt} & = \\frac{v\\cos\\theta}{1 + z/R_P}\\\\\\rho_a v^2 & = \\sigma_0\\\\\n",
    "\\frac{dr}{dt} & = \\left[\\frac{7}{2}\\alpha\\frac{\\rho_a}{\\rho_m}\\right]^{1/2} v\\\\\n",
    "\\rho_a & = \\rho_0 e^{-z/H}\\\\\n",
    "\\end{aligned}\n",
    "\n",
    "\n",
    "## 1.2. Integrate a system of ordinary differential equations (ODE)\n",
    "        \n",
    "scipy.integrate.solve_ivp (method: RK45) was applied to numerically integrate a system of ordinary differential equations \n",
    "given initial parameters. The Runge-Kutta Fehlberg time stepping-method (RK45) is a an accurate scheme consisting of a\n",
    "fourth-order RK scheme coupled with a fifth-order RK method (Fehlberg 1969).\n",
    "\n",
    "The improved Euler was also applied in a matrix form to integrate coupled ODEs. The advantage of the method is that it is an \n",
    "accurate method with easy implementation. However, the accuracy of the method improves only linearly with the step size is\n",
    "decreased (Lekoba and Taras, 2012).\n",
    "\n",
    "After running both methods and comparing their produced errors, scipy.integrate.solve_ivp (method: RK45) function chosen to\n",
    "numerically integrate a system of ordinary differential equations as it provided more accurate outputs.The graph illustrates \n",
    "that scipy.integrate.solve_iv produces more accurate results.\n",
    "\n",
    "![Euler vs ivp](numerical_vs_analytical_Improved_Euler.png \"title\")\n",
    "\n",
    "\n",
    "\n",
    "References\n",
    "\n",
    "1. Erwin Fehlberg (1969). Low-order classical Runge-Kutta formulas with step size control and their application to some heat \n",
    "transfer problems. NASA Technical Report 315.\n",
    "2. Lakoba, Taras I. (2012), Simple Euler method and its modifications (Lecture notes for MATH334), University of Vermont, \n",
    "retrieved 29 February 2012.\n",
    "\n",
    "## 1.3. pytest\n",
    "\n",
    "Several tests were created in order to cover every line of scripts, to make sure user is inputting the sensical inputs, and\n",
    "to consider boundary cases.\n",
    "\n",
    "Common sense tests were applied to test the functions. Prameters scuh as $\\Delta z$, $\\Delta v$....showed\n",
    "a good correspondes with the project demands.\n",
    "\n",
    "Specific tests were implemented for various known senarios such as Chelyabinsk and Tunguska.\n",
    "\n",
    "Pytest results allowed us to verify parameters and test script acuuracy. \n",
    "\n",
    "## 1.4. Analytical solution\n",
    "\n",
    "### 1.4.1. Assumptions:\n",
    "    \n",
    "| Symbol |   Description    | Units/Value |\n",
    "|:------:|:----------------:|:-----------:|\n",
    "| $rho_a$ |   Atmospheric density (kpa)  | $\\rho_0 e^{-z/H}$ |\n",
    "| $g$ | Gravitational acceleration  | 0 |\n",
    "| $R_P$ | Radius of planet (flat planet) | $\\infty$ |\n",
    "| $C_L$ |    Lift coefficient    | 0 |\n",
    "| $\\frac{dm}{dt}$ | Mass change | 0 |\n",
    "| $\\sigma_0 $ | Meteoroid trajectory angle to the surface | $\\infty$ | \n",
    "| $g$ | Gravity | 0 |    \n",
    "| $\\frac{dr}{dt}$ | Radius change | 0 | \n",
    "\n",
    "### 1.4.2. Solution\n",
    "\n",
    "An analytical solution derived with the simplifying assumptions of exponential atmosphere as follow:\n",
    "\n",
    "    \n",
    "\\begin{aligned}\n",
    "\\frac{{\\rm d}v}{{\\rm d}t} & = \\frac{-c_{{\\rm D}}\\,\\rho_{\\rm a}(z)\\,A\\,v^2}{2\\,m}\\\\\n",
    "\\frac{{\\rm d}m}{{\\rm d}t} & = 0\\\\\n",
    "\\frac{{\\rm d}\\theta}{{\\rm d}t} & = 0\\\\\n",
    "\\frac{{\\rm d}z}{{\\rm d}t} & = -v\\,{\\rm sin}(\\theta)\\\\\n",
    "\\frac{{\\rm d}x}{{\\rm d}t} & = v\\,{\\rm cos}(\\theta)\\\\\n",
    "\\rho_a(z) & = \\rho_0\\,e^{-\\frac{z}{H}}\\\\\n",
    "\\frac{{\\rm d}r}{{\\rm d}t} & = 0\\\\\n",
    "\\end{aligned}\n",
    "\n",
    "\n"
   ]
  },
  {
   "cell_type": "code",
   "execution_count": null,
   "metadata": {},
   "outputs": [],
   "source": [
    "2. A brief description of how to install and use your software"
   ]
  },
  {
   "cell_type": "markdown",
   "metadata": {},
   "source": [
    "3. A demonstration execution of your software that can take User-specified inputs and return the key results specified above and produce well-formatted plots of: altitude vs time; speed vs altitude; mass vs. altitude; diameter vs. altitude; kinetic energy loss per km vs. altitude "
   ]
  },
  {
   "cell_type": "code",
   "execution_count": null,
   "metadata": {},
   "outputs": [],
   "source": [
    "\n",
    "# 4. A comparison between numerical outputs and the analytical solution  \n",
    "\n",
    "\n",
    "The graph shows the graphical comparison between the analytical solution and numerical solution in terms of speed vs altitude.\n",
    "\n",
    "![analytical solution vs numerical solution](numerical_vs_analytical_RK45.png \"title\")\n",
    "\n",
    "\n",
    "\n"
   ]
  },
  {
   "cell_type": "markdown",
   "metadata": {},
   "source": [
    "5. A quantification of the accuracy of your numerical solution for two cases, with and without fragmentation, for User-specified input parameters. It is up to you to design an appropriate demonstration of accuracy, but this could take the form of a plot of error vs. timestep size or error vs. solver tolerance, depending on your solution algorithm "
   ]
  },
  {
   "cell_type": "markdown",
   "metadata": {},
   "source": [
    "6. Apply your software to determine the impactor parameters (asteroid size & strength) for the Chelyabinsk airburst, by fitting your model solutions of kinetic energy loss per km vs. altitude to the inferred energy deposition curve (available [here](data/ChelyabinskEnergyAltitude.csv)). Note that in this data file energy is given in units of [kilotons of TNT](https://en.wikipedia.org/wiki/TNT_equivalent), where 1 kt TNT is equivalent to $4.184 \\times 10^{12}$ J. Note also that the density 3300 kg/m$^3$, impact angle (18.3 degrees to horizontal) and entry velocity (19.2 km/s) are well known from observations ([Popova et al., 2013](http://doi.org/10.1126/science.1242642)).   "
   ]
  },
  {
   "cell_type": "markdown",
   "metadata": {},
   "source": [
    "7. (Optional) A demonstration of functionality to model entry on Mars via a comparison between the same impact scenario on Earth and Mars"
   ]
  },
  {
   "cell_type": "markdown",
   "metadata": {},
   "source": [
    "8. (Optional) A demonstration of an alternative or more complex fragmentation model via a graphical comparison between two models "
   ]
  },
  {
   "cell_type": "markdown",
   "metadata": {},
   "source": [
    "9. (Optional) A demonstration of functionality to perform a statistical ensemble; that is, to take probability distributions of each parameter as inputs and return outcomes as probability distributions."
   ]
  }
 ],
 "metadata": {
  "kernelspec": {
   "display_name": "Python 3",
   "language": "python",
   "name": "python3"
  },
  "language_info": {
   "codemirror_mode": {
    "name": "ipython",
    "version": 3
   },
   "file_extension": ".py",
   "mimetype": "text/x-python",
   "name": "python",
   "nbconvert_exporter": "python",
   "pygments_lexer": "ipython3",
   "version": "3.7.0"
  }
 },
 "nbformat": 4,
 "nbformat_minor": 2
}
